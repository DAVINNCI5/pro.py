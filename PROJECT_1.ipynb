{
  "cells": [
    {
      "cell_type": "markdown",
      "metadata": {
        "id": "view-in-github",
        "colab_type": "text"
      },
      "source": [
        "<a href=\"https://colab.research.google.com/github/DAVINNCI5/pro.py/blob/main/PROJECT_1.ipynb\" target=\"_parent\"><img src=\"https://colab.research.google.com/assets/colab-badge.svg\" alt=\"Open In Colab\"/></a>"
      ]
    },
    {
      "cell_type": "markdown",
      "metadata": {
        "id": "slphIhNCNXRQ"
      },
      "source": [
        "**GENERAL OBJECTIVES**"
      ]
    },
    {
      "cell_type": "markdown",
      "metadata": {
        "id": "z45qZ0T6VLqa"
      },
      "source": [
        "i.\tThe main objective of this project is create a machine learning model that accurately predicts house prices.\n",
        "ii.\tCompare the performance of various machine learning algorithms to determine the most effective method for predicting house prices.\n"
      ]
    },
    {
      "cell_type": "markdown",
      "metadata": {
        "id": "2POCdTwdWxZh"
      },
      "source": [
        "This line loads the dataset containing apartment listings into a DataFrame called df. The file apartments.csv includes information about the available rooms or apartments—such as price, location, number of bedrooms, availability, and other relevant details. By loading this data, we can begin cleaning, analyzing, and eventually using it to help tenants find suitable rental options."
      ]
    },
    {
      "cell_type": "code",
      "execution_count": 2,
      "metadata": {
        "id": "BOdD4exGK9UV",
        "colab": {
          "base_uri": "https://localhost:8080/"
        },
        "outputId": "c33f2a12-ac4d-434e-b82f-2520cbd9235c"
      },
      "outputs": [
        {
          "output_type": "stream",
          "name": "stdout",
          "text": [
            "                                              title  \\\n",
            "0   3 Bedroom Apartment / Flat to rent in Riverside   \n",
            "1  3 Bedroom Apartment / Flat to rent in Kileleshwa   \n",
            "2       3 Bedroom Apartment / Flat to rent in Nyali   \n",
            "3   3 Bedroom Apartment / Flat to rent in Lavington   \n",
            "4  1 Bedroom Apartment / Flat to rent in Kileleshwa   \n",
            "\n",
            "                                   location  bedrooms  bathrooms     price  \\\n",
            "0  Riverside Dr Nairobi, Riverside, Nairobi         3          3   200 000   \n",
            "1                       Kileleshwa, Nairobi         3          4    70 000   \n",
            "2          Links Rd Mombasa, Nyali, Mombasa         3          2    38 000   \n",
            "3    Near Valley Arcade, Lavington, Nairobi         3          3    80 000   \n",
            "4                       Kileleshwa, Nairobi         1          1   110 000   \n",
            "\n",
            "        rate  \n",
            "0  Per Month  \n",
            "1  Per Month  \n",
            "2  Per Month  \n",
            "3  Per Month  \n",
            "4  Per Month  \n",
            "title          0\n",
            "location     376\n",
            "bedrooms       0\n",
            "bathrooms      0\n",
            "price          0\n",
            "rate           0\n",
            "dtype: int64\n"
          ]
        }
      ],
      "source": [
        "import pandas as pd\n",
        "\n",
        "# Load the dataset\n",
        "df = pd.read_csv('/content/apartments.csv')\n",
        "\n",
        "# Display the first few rows\n",
        "print(df.head())\n",
        "\n",
        "# Check for any missing values\n",
        "print(df.isnull().sum())\n"
      ]
    },
    {
      "cell_type": "markdown",
      "metadata": {
        "id": "khXuagDwW1G2"
      },
      "source": [
        "This line removes the title column from the dataset as it contains unstructured text that's not useful for analysis. It helps keep only relevant features for filtering or modeling rental listings."
      ]
    },
    {
      "cell_type": "code",
      "execution_count": 3,
      "metadata": {
        "id": "7wEMiImZK_sA"
      },
      "outputs": [],
      "source": [
        "# Drop 'title' column\n",
        "df = df.drop(columns=['title'])\n"
      ]
    },
    {
      "cell_type": "markdown",
      "metadata": {
        "id": "HY0LkuIDXZMt"
      },
      "source": [
        "This line converts the location column into multiple binary (0/1) columns using one-hot encoding. It allows the model to understand location as separate features without treating them as numeric values."
      ]
    },
    {
      "cell_type": "code",
      "execution_count": 4,
      "metadata": {
        "id": "JSgneFn3LKcl"
      },
      "outputs": [],
      "source": [
        "# One-hot encode 'location'\n",
        "df = pd.get_dummies(df, columns=['location'], drop_first=True)\n"
      ]
    },
    {
      "cell_type": "markdown",
      "metadata": {
        "id": "iGRjfQ_SX1pI"
      },
      "source": [
        "This block cleans and standardizes numeric features like bedrooms, bathrooms, price, and rate to prepare the data for modeling. It ensures that values are in a uniform scale, which improves the performance of many machine learning algorithms."
      ]
    },
    {
      "cell_type": "code",
      "execution_count": 5,
      "metadata": {
        "id": "V7PRSynOLOeL",
        "colab": {
          "base_uri": "https://localhost:8080/"
        },
        "outputId": "18a7f571-e2b8-46a9-dd20-144133bb74b7"
      },
      "outputs": [
        {
          "output_type": "stream",
          "name": "stderr",
          "text": [
            "/usr/local/lib/python3.11/dist-packages/sklearn/utils/extmath.py:1101: RuntimeWarning: invalid value encountered in divide\n",
            "  updated_mean = (last_sum + new_sum) / updated_sample_count\n",
            "/usr/local/lib/python3.11/dist-packages/sklearn/utils/extmath.py:1106: RuntimeWarning: invalid value encountered in divide\n",
            "  T = new_sum / new_sample_count\n",
            "/usr/local/lib/python3.11/dist-packages/sklearn/utils/extmath.py:1126: RuntimeWarning: invalid value encountered in divide\n",
            "  new_unnormalized_variance -= correction**2 / new_sample_count\n"
          ]
        }
      ],
      "source": [
        "from sklearn.preprocessing import StandardScaler\n",
        "import pandas as pd\n",
        "from sklearn.preprocessing import StandardScaler\n",
        "\n",
        "# Assuming 'df' is your DataFrame\n",
        "\n",
        "# Replace spaces and commas in numeric columns and convert to numeric type\n",
        "for col in ['bedrooms', 'bathrooms', 'price', 'rate']:\n",
        "    # Convert the column to string type first to handle potential mixed data types\n",
        "    df[col] = df[col].astype(str).str.replace(' ', '').str.replace(',', '')\n",
        "    # Now, convert to numeric, handling errors by coercing them to NaN\n",
        "    df[col] = pd.to_numeric(df[col], errors='coerce')\n",
        "\n",
        "# Initialize the scaler\n",
        "scaler = StandardScaler()\n",
        "\n",
        "# Scale numerical columns\n",
        "df[['bedrooms', 'bathrooms', 'price', 'rate']] = scaler.fit_transform(df[['bedrooms', 'bathrooms', 'price', 'rate']])\n",
        "# Initialize the scaler (This line seems redundant and can be removed)\n",
        "# scaler = StandardScaler()\n",
        "\n",
        "# Scale numerical columns (This line seems redundant and can be removed)\n",
        "# df[['bedrooms', 'bathrooms', 'price', 'rate']] = scaler.fit_transform(df[['bedrooms', 'bathrooms', 'price', 'rate']])"
      ]
    },
    {
      "cell_type": "markdown",
      "metadata": {
        "id": "wXXgC8KMYAaH"
      },
      "source": [
        "ChatGPT said:\n",
        "This line creates a demo column is_available to simulate availability, labeling listings with a rate below the median as available. It's a synthetic feature just for testing or modeling purposes."
      ]
    },
    {
      "cell_type": "code",
      "execution_count": 6,
      "metadata": {
        "id": "lOJO7kEBLTDe"
      },
      "outputs": [],
      "source": [
        "# Create a synthetic 'is_available' column based on rate (just for demo purposes)\n",
        "df['is_available'] = (df['rate'] < df['rate'].median()).astype(int)\n"
      ]
    },
    {
      "cell_type": "markdown",
      "metadata": {
        "id": "8NkVy-vTYLZH"
      },
      "source": [
        "\n",
        "This code splits the data into training and testing sets to prepare for model building. X contains the apartment features, while y holds the target (is_available), with 80% used for training and 20% for testing."
      ]
    },
    {
      "cell_type": "code",
      "execution_count": 7,
      "metadata": {
        "id": "7Oo2sEFRLujr"
      },
      "outputs": [],
      "source": [
        "from sklearn.model_selection import train_test_split\n",
        "\n",
        "# Features (X) and target (y)\n",
        "X = df.drop(columns=['is_available'])\n",
        "y = df['is_available']\n",
        "\n",
        "# Split into training and testing sets\n",
        "X_train, X_test, y_train, y_test = train_test_split(X, y, test_size=0.2, random_state=42)\n"
      ]
    },
    {
      "cell_type": "code",
      "execution_count": 8,
      "metadata": {
        "id": "TB85JG3nLwQ4",
        "colab": {
          "base_uri": "https://localhost:8080/"
        },
        "outputId": "012f2147-35d3-4031-a81b-39589dc68371"
      },
      "outputs": [
        {
          "output_type": "stream",
          "name": "stdout",
          "text": [
            "bedrooms        0\n",
            "bathrooms       0\n",
            "price           0\n",
            "rate         2520\n",
            "dtype: int64\n"
          ]
        }
      ],
      "source": [
        "import pandas as pd\n",
        "from sklearn.preprocessing import StandardScaler\n",
        "from sklearn.model_selection import train_test_split\n",
        "from sklearn.linear_model import LogisticRegression\n",
        "from sklearn.metrics import classification_report, accuracy_score, confusion_matrix\n",
        "from sklearn.impute import SimpleImputer  # Import SimpleImputer\n",
        "\n",
        "# Assuming 'df' is your DataFrame\n",
        "\n",
        "# ... (Your previous code for data loading, one-hot encoding, etc.)\n",
        "\n",
        "# Replace spaces and commas in numeric columns and convert to numeric type\n",
        "# Step 1: Identify numeric columns\n",
        "numeric_cols = ['bedrooms', 'bathrooms', 'price', 'rate']\n",
        "\n",
        "# Step 2: Check which columns are fully null\n",
        "print(df[numeric_cols].isnull().sum())\n",
        "\n",
        "# Step 3: Drop columns with ALL missing values (like 'rate', if applicable)\n",
        "numeric_cols = [col for col in numeric_cols if df[col].notnull().sum() > 0]\n",
        "\n",
        "# Step 4: Impute only the valid numeric columns\n",
        "from sklearn.impute import SimpleImputer\n",
        "\n",
        "imputer = SimpleImputer(strategy='median')\n",
        "imputed_data = imputer.fit_transform(df[numeric_cols])\n",
        "\n",
        "# Step 5: Assign imputed data back\n",
        "df[numeric_cols] = imputed_data\n",
        "\n",
        "# Initialize the scaler\n",
        "scaler = StandardScaler()\n",
        "\n",
        "# Scale numerical columns\n",
        "# Use numeric_cols here to ensure all four columns are scaled\n",
        "df[numeric_cols] = scaler.fit_transform(df[numeric_cols])\n",
        "\n",
        "# ... (Rest of your code for creating 'is_available', train-test split, model training, and evaluation)"
      ]
    },
    {
      "cell_type": "markdown",
      "metadata": {
        "id": "wJ0CrgK3YrdY"
      },
      "source": [
        "ows with missing values are removed from both training and testing sets to ensure clean input for the model. The corresponding labels (y_train, y_test) are also aligned with the cleaned feature sets."
      ]
    },
    {
      "cell_type": "code",
      "execution_count": 9,
      "metadata": {
        "id": "nCgcOTkmO7FL",
        "colab": {
          "base_uri": "https://localhost:8080/"
        },
        "outputId": "64e8d68a-fa17-49bd-84b1-23774f603563"
      },
      "outputs": [
        {
          "output_type": "stream",
          "name": "stdout",
          "text": [
            "X_train NaNs:\n",
            " bedrooms                                                0\n",
            "bathrooms                                               0\n",
            "price                                                   0\n",
            "rate                                                    0\n",
            "location_Jabavu court, Kilimani, Nairobi                0\n",
            "location_Kikuyu Town Bus park Kikuyu, Kikuyu, Kikuyu    0\n",
            "location_Kileleshwa Nairobi, Kileleshwa, Nairobi        0\n",
            "location_Kileleshwa, Nairobi                            0\n",
            "location_Kilimani, Nairobi                              0\n",
            "location_Links Rd Mombasa, Nyali, Mombasa               0\n",
            "location_Muthaiga, Nairobi                              0\n",
            "location_Near Valley Arcade, Lavington, Nairobi         0\n",
            "location_Nyali, Mombasa                                 0\n",
            "location_Off Othaya road, Lavington, Nairobi            0\n",
            "location_Riverside Dr Nairobi, Riverside, Nairobi       0\n",
            "location_Shanzu, Mombasa                                0\n",
            "location_Thika Rd Nairobi, Kahawa Wendani, Nairobi      0\n",
            "location_Vihiga road, Kileleshwa, Nairobi               0\n",
            "location_Westlands downtown, Westlands, Nairobi         0\n",
            "location_Westlands, Nairobi                             0\n",
            "dtype: int64\n"
          ]
        }
      ],
      "source": [
        "# Drop all rows with any NaN values in X_train and X_test\n",
        "X_train = X_train.dropna()\n",
        "y_train = y_train.loc[X_train.index]\n",
        "\n",
        "X_test = X_test.dropna()\n",
        "y_test = y_test.loc[X_test.index]\n",
        "\n",
        "# Confirm it's clean\n",
        "print(\"X_train NaNs:\\n\", X_train.isnull().sum())\n"
      ]
    },
    {
      "cell_type": "markdown",
      "metadata": {
        "id": "nuEIJ18xYz0F"
      },
      "source": [
        "ChatGPT said:\n",
        "These assertions ensure that all missing values have been successfully removed from X_train and X_test. If any NaNs remain, an error is raised to catch the issue early before modeling."
      ]
    },
    {
      "cell_type": "code",
      "execution_count": 10,
      "metadata": {
        "id": "iu6UKd6fO-ov"
      },
      "outputs": [],
      "source": [
        "assert not X_train.isnull().any().any(), \"Still some NaNs in X_train!\"\n",
        "assert not X_test.isnull().any().any(), \"Still some NaNs in X_test!\"\n"
      ]
    },
    {
      "cell_type": "markdown",
      "metadata": {
        "id": "x5a1LWtvY9jZ"
      },
      "source": [
        "These lines print the dimensions of the training feature set (X_train) and the target labels (y_train). It's a quick sanity check to confirm that the data is aligned and ready for model training."
      ]
    },
    {
      "cell_type": "code",
      "execution_count": 11,
      "metadata": {
        "id": "faZBRgbqPlvs",
        "colab": {
          "base_uri": "https://localhost:8080/"
        },
        "outputId": "345d0041-80e2-48f3-bda9-497629c604b9"
      },
      "outputs": [
        {
          "output_type": "stream",
          "name": "stdout",
          "text": [
            "X_train shape: (0, 20)\n",
            "y_train shape: (0,)\n"
          ]
        }
      ],
      "source": [
        "print(\"X_train shape:\", X_train.shape)\n",
        "print(\"y_train shape:\", y_train.shape)\n"
      ]
    },
    {
      "cell_type": "code",
      "execution_count": 12,
      "metadata": {
        "id": "FyI-Yar5OPod",
        "colab": {
          "base_uri": "https://localhost:8080/"
        },
        "outputId": "0f077d08-c3d3-4905-e9ed-cae6128d4371"
      },
      "outputs": [
        {
          "output_type": "stream",
          "name": "stdout",
          "text": [
            "Series([], Name: count, dtype: int64)\n"
          ]
        }
      ],
      "source": [
        "print(y_train.value_counts())\n"
      ]
    },
    {
      "cell_type": "markdown",
      "metadata": {
        "id": "7cZcGN1LZQus"
      },
      "source": [
        "This re-splits the preprocessed data into training and testing sets, ensuring the distribution of the is_available target remains balanced across both sets using stratify=y."
      ]
    },
    {
      "cell_type": "code",
      "execution_count": 13,
      "metadata": {
        "id": "o2yE4FRJOQr8"
      },
      "outputs": [],
      "source": [
        "from sklearn.model_selection import train_test_split\n",
        "\n",
        "# Assuming df['is_available'] is still intact and clean\n",
        "X = df.drop(columns=['is_available'])\n",
        "y = df['is_available']\n",
        "\n",
        "# Re-split after all preprocessing\n",
        "X_train, X_test, y_train, y_test = train_test_split(\n",
        "    X, y, test_size=0.2, random_state=42, stratify=y\n",
        ")\n"
      ]
    },
    {
      "cell_type": "code",
      "execution_count": 14,
      "metadata": {
        "id": "oeQMmYG-Oqlz",
        "colab": {
          "base_uri": "https://localhost:8080/"
        },
        "outputId": "c2b90488-8916-47b4-a784-7ad707647aa9"
      },
      "outputs": [
        {
          "output_type": "stream",
          "name": "stdout",
          "text": [
            "New X_train shape: (2016, 20)\n"
          ]
        }
      ],
      "source": [
        "print(\"New X_train shape:\", X_train.shape)\n"
      ]
    },
    {
      "cell_type": "markdown",
      "metadata": {
        "id": "N7X68ZstZamG"
      },
      "source": [
        "Columns with only missing values are dropped from X_train, and X_test is reindexed to match, ensuring compatibility. Then, missing values are filled using median imputation to prepare clean and consistent data for modeling."
      ]
    },
    {
      "cell_type": "code",
      "execution_count": 15,
      "metadata": {
        "id": "-vZUaowSAbm8"
      },
      "outputs": [],
      "source": [
        "import pandas as pd\n",
        "from sklearn.impute import SimpleImputer\n",
        "\n",
        "# Drop columns with all NaN values from X_train (since median imputation can't handle them)\n",
        "X_train_clean = X_train.dropna(axis=1, how='all')\n",
        "\n",
        "# Ensure X_test has the same columns in the same order\n",
        "X_test_clean = X_test.reindex(columns=X_train_clean.columns, fill_value=0)\n",
        "\n",
        "# Create the imputer and fit on the cleaned X_train\n",
        "imputer = SimpleImputer(strategy='median')\n",
        "\n",
        "# Fit and transform X_train\n",
        "X_train_imputed = pd.DataFrame(imputer.fit_transform(X_train_clean),\n",
        "                               columns=X_train_clean.columns,\n",
        "                               index=X_train_clean.index)\n",
        "\n",
        "# Transform X_test using the same imputer\n",
        "X_test_imputed = pd.DataFrame(imputer.transform(X_test_clean),\n",
        "                              columns=X_test_clean.columns,\n",
        "                              index=X_test_clean.index)\n"
      ]
    },
    {
      "cell_type": "markdown",
      "metadata": {
        "id": "zphKJCo5ZciF"
      },
      "source": []
    },
    {
      "cell_type": "code",
      "execution_count": 16,
      "metadata": {
        "id": "awK2q46bExE8",
        "colab": {
          "base_uri": "https://localhost:8080/",
          "height": 167
        },
        "outputId": "c6b6f622-fa28-4d99-da7b-8a290472d15d"
      },
      "outputs": [
        {
          "output_type": "stream",
          "name": "stdout",
          "text": [
            "Class distribution in y_train:\n",
            " target\n",
            "1    402\n",
            "0    398\n",
            "Name: count, dtype: int64\n"
          ]
        },
        {
          "output_type": "execute_result",
          "data": {
            "text/plain": [
              "LogisticRegression(max_iter=1000)"
            ],
            "text/html": [
              "<style>#sk-container-id-1 {\n",
              "  /* Definition of color scheme common for light and dark mode */\n",
              "  --sklearn-color-text: #000;\n",
              "  --sklearn-color-text-muted: #666;\n",
              "  --sklearn-color-line: gray;\n",
              "  /* Definition of color scheme for unfitted estimators */\n",
              "  --sklearn-color-unfitted-level-0: #fff5e6;\n",
              "  --sklearn-color-unfitted-level-1: #f6e4d2;\n",
              "  --sklearn-color-unfitted-level-2: #ffe0b3;\n",
              "  --sklearn-color-unfitted-level-3: chocolate;\n",
              "  /* Definition of color scheme for fitted estimators */\n",
              "  --sklearn-color-fitted-level-0: #f0f8ff;\n",
              "  --sklearn-color-fitted-level-1: #d4ebff;\n",
              "  --sklearn-color-fitted-level-2: #b3dbfd;\n",
              "  --sklearn-color-fitted-level-3: cornflowerblue;\n",
              "\n",
              "  /* Specific color for light theme */\n",
              "  --sklearn-color-text-on-default-background: var(--sg-text-color, var(--theme-code-foreground, var(--jp-content-font-color1, black)));\n",
              "  --sklearn-color-background: var(--sg-background-color, var(--theme-background, var(--jp-layout-color0, white)));\n",
              "  --sklearn-color-border-box: var(--sg-text-color, var(--theme-code-foreground, var(--jp-content-font-color1, black)));\n",
              "  --sklearn-color-icon: #696969;\n",
              "\n",
              "  @media (prefers-color-scheme: dark) {\n",
              "    /* Redefinition of color scheme for dark theme */\n",
              "    --sklearn-color-text-on-default-background: var(--sg-text-color, var(--theme-code-foreground, var(--jp-content-font-color1, white)));\n",
              "    --sklearn-color-background: var(--sg-background-color, var(--theme-background, var(--jp-layout-color0, #111)));\n",
              "    --sklearn-color-border-box: var(--sg-text-color, var(--theme-code-foreground, var(--jp-content-font-color1, white)));\n",
              "    --sklearn-color-icon: #878787;\n",
              "  }\n",
              "}\n",
              "\n",
              "#sk-container-id-1 {\n",
              "  color: var(--sklearn-color-text);\n",
              "}\n",
              "\n",
              "#sk-container-id-1 pre {\n",
              "  padding: 0;\n",
              "}\n",
              "\n",
              "#sk-container-id-1 input.sk-hidden--visually {\n",
              "  border: 0;\n",
              "  clip: rect(1px 1px 1px 1px);\n",
              "  clip: rect(1px, 1px, 1px, 1px);\n",
              "  height: 1px;\n",
              "  margin: -1px;\n",
              "  overflow: hidden;\n",
              "  padding: 0;\n",
              "  position: absolute;\n",
              "  width: 1px;\n",
              "}\n",
              "\n",
              "#sk-container-id-1 div.sk-dashed-wrapped {\n",
              "  border: 1px dashed var(--sklearn-color-line);\n",
              "  margin: 0 0.4em 0.5em 0.4em;\n",
              "  box-sizing: border-box;\n",
              "  padding-bottom: 0.4em;\n",
              "  background-color: var(--sklearn-color-background);\n",
              "}\n",
              "\n",
              "#sk-container-id-1 div.sk-container {\n",
              "  /* jupyter's `normalize.less` sets `[hidden] { display: none; }`\n",
              "     but bootstrap.min.css set `[hidden] { display: none !important; }`\n",
              "     so we also need the `!important` here to be able to override the\n",
              "     default hidden behavior on the sphinx rendered scikit-learn.org.\n",
              "     See: https://github.com/scikit-learn/scikit-learn/issues/21755 */\n",
              "  display: inline-block !important;\n",
              "  position: relative;\n",
              "}\n",
              "\n",
              "#sk-container-id-1 div.sk-text-repr-fallback {\n",
              "  display: none;\n",
              "}\n",
              "\n",
              "div.sk-parallel-item,\n",
              "div.sk-serial,\n",
              "div.sk-item {\n",
              "  /* draw centered vertical line to link estimators */\n",
              "  background-image: linear-gradient(var(--sklearn-color-text-on-default-background), var(--sklearn-color-text-on-default-background));\n",
              "  background-size: 2px 100%;\n",
              "  background-repeat: no-repeat;\n",
              "  background-position: center center;\n",
              "}\n",
              "\n",
              "/* Parallel-specific style estimator block */\n",
              "\n",
              "#sk-container-id-1 div.sk-parallel-item::after {\n",
              "  content: \"\";\n",
              "  width: 100%;\n",
              "  border-bottom: 2px solid var(--sklearn-color-text-on-default-background);\n",
              "  flex-grow: 1;\n",
              "}\n",
              "\n",
              "#sk-container-id-1 div.sk-parallel {\n",
              "  display: flex;\n",
              "  align-items: stretch;\n",
              "  justify-content: center;\n",
              "  background-color: var(--sklearn-color-background);\n",
              "  position: relative;\n",
              "}\n",
              "\n",
              "#sk-container-id-1 div.sk-parallel-item {\n",
              "  display: flex;\n",
              "  flex-direction: column;\n",
              "}\n",
              "\n",
              "#sk-container-id-1 div.sk-parallel-item:first-child::after {\n",
              "  align-self: flex-end;\n",
              "  width: 50%;\n",
              "}\n",
              "\n",
              "#sk-container-id-1 div.sk-parallel-item:last-child::after {\n",
              "  align-self: flex-start;\n",
              "  width: 50%;\n",
              "}\n",
              "\n",
              "#sk-container-id-1 div.sk-parallel-item:only-child::after {\n",
              "  width: 0;\n",
              "}\n",
              "\n",
              "/* Serial-specific style estimator block */\n",
              "\n",
              "#sk-container-id-1 div.sk-serial {\n",
              "  display: flex;\n",
              "  flex-direction: column;\n",
              "  align-items: center;\n",
              "  background-color: var(--sklearn-color-background);\n",
              "  padding-right: 1em;\n",
              "  padding-left: 1em;\n",
              "}\n",
              "\n",
              "\n",
              "/* Toggleable style: style used for estimator/Pipeline/ColumnTransformer box that is\n",
              "clickable and can be expanded/collapsed.\n",
              "- Pipeline and ColumnTransformer use this feature and define the default style\n",
              "- Estimators will overwrite some part of the style using the `sk-estimator` class\n",
              "*/\n",
              "\n",
              "/* Pipeline and ColumnTransformer style (default) */\n",
              "\n",
              "#sk-container-id-1 div.sk-toggleable {\n",
              "  /* Default theme specific background. It is overwritten whether we have a\n",
              "  specific estimator or a Pipeline/ColumnTransformer */\n",
              "  background-color: var(--sklearn-color-background);\n",
              "}\n",
              "\n",
              "/* Toggleable label */\n",
              "#sk-container-id-1 label.sk-toggleable__label {\n",
              "  cursor: pointer;\n",
              "  display: flex;\n",
              "  width: 100%;\n",
              "  margin-bottom: 0;\n",
              "  padding: 0.5em;\n",
              "  box-sizing: border-box;\n",
              "  text-align: center;\n",
              "  align-items: start;\n",
              "  justify-content: space-between;\n",
              "  gap: 0.5em;\n",
              "}\n",
              "\n",
              "#sk-container-id-1 label.sk-toggleable__label .caption {\n",
              "  font-size: 0.6rem;\n",
              "  font-weight: lighter;\n",
              "  color: var(--sklearn-color-text-muted);\n",
              "}\n",
              "\n",
              "#sk-container-id-1 label.sk-toggleable__label-arrow:before {\n",
              "  /* Arrow on the left of the label */\n",
              "  content: \"▸\";\n",
              "  float: left;\n",
              "  margin-right: 0.25em;\n",
              "  color: var(--sklearn-color-icon);\n",
              "}\n",
              "\n",
              "#sk-container-id-1 label.sk-toggleable__label-arrow:hover:before {\n",
              "  color: var(--sklearn-color-text);\n",
              "}\n",
              "\n",
              "/* Toggleable content - dropdown */\n",
              "\n",
              "#sk-container-id-1 div.sk-toggleable__content {\n",
              "  max-height: 0;\n",
              "  max-width: 0;\n",
              "  overflow: hidden;\n",
              "  text-align: left;\n",
              "  /* unfitted */\n",
              "  background-color: var(--sklearn-color-unfitted-level-0);\n",
              "}\n",
              "\n",
              "#sk-container-id-1 div.sk-toggleable__content.fitted {\n",
              "  /* fitted */\n",
              "  background-color: var(--sklearn-color-fitted-level-0);\n",
              "}\n",
              "\n",
              "#sk-container-id-1 div.sk-toggleable__content pre {\n",
              "  margin: 0.2em;\n",
              "  border-radius: 0.25em;\n",
              "  color: var(--sklearn-color-text);\n",
              "  /* unfitted */\n",
              "  background-color: var(--sklearn-color-unfitted-level-0);\n",
              "}\n",
              "\n",
              "#sk-container-id-1 div.sk-toggleable__content.fitted pre {\n",
              "  /* unfitted */\n",
              "  background-color: var(--sklearn-color-fitted-level-0);\n",
              "}\n",
              "\n",
              "#sk-container-id-1 input.sk-toggleable__control:checked~div.sk-toggleable__content {\n",
              "  /* Expand drop-down */\n",
              "  max-height: 200px;\n",
              "  max-width: 100%;\n",
              "  overflow: auto;\n",
              "}\n",
              "\n",
              "#sk-container-id-1 input.sk-toggleable__control:checked~label.sk-toggleable__label-arrow:before {\n",
              "  content: \"▾\";\n",
              "}\n",
              "\n",
              "/* Pipeline/ColumnTransformer-specific style */\n",
              "\n",
              "#sk-container-id-1 div.sk-label input.sk-toggleable__control:checked~label.sk-toggleable__label {\n",
              "  color: var(--sklearn-color-text);\n",
              "  background-color: var(--sklearn-color-unfitted-level-2);\n",
              "}\n",
              "\n",
              "#sk-container-id-1 div.sk-label.fitted input.sk-toggleable__control:checked~label.sk-toggleable__label {\n",
              "  background-color: var(--sklearn-color-fitted-level-2);\n",
              "}\n",
              "\n",
              "/* Estimator-specific style */\n",
              "\n",
              "/* Colorize estimator box */\n",
              "#sk-container-id-1 div.sk-estimator input.sk-toggleable__control:checked~label.sk-toggleable__label {\n",
              "  /* unfitted */\n",
              "  background-color: var(--sklearn-color-unfitted-level-2);\n",
              "}\n",
              "\n",
              "#sk-container-id-1 div.sk-estimator.fitted input.sk-toggleable__control:checked~label.sk-toggleable__label {\n",
              "  /* fitted */\n",
              "  background-color: var(--sklearn-color-fitted-level-2);\n",
              "}\n",
              "\n",
              "#sk-container-id-1 div.sk-label label.sk-toggleable__label,\n",
              "#sk-container-id-1 div.sk-label label {\n",
              "  /* The background is the default theme color */\n",
              "  color: var(--sklearn-color-text-on-default-background);\n",
              "}\n",
              "\n",
              "/* On hover, darken the color of the background */\n",
              "#sk-container-id-1 div.sk-label:hover label.sk-toggleable__label {\n",
              "  color: var(--sklearn-color-text);\n",
              "  background-color: var(--sklearn-color-unfitted-level-2);\n",
              "}\n",
              "\n",
              "/* Label box, darken color on hover, fitted */\n",
              "#sk-container-id-1 div.sk-label.fitted:hover label.sk-toggleable__label.fitted {\n",
              "  color: var(--sklearn-color-text);\n",
              "  background-color: var(--sklearn-color-fitted-level-2);\n",
              "}\n",
              "\n",
              "/* Estimator label */\n",
              "\n",
              "#sk-container-id-1 div.sk-label label {\n",
              "  font-family: monospace;\n",
              "  font-weight: bold;\n",
              "  display: inline-block;\n",
              "  line-height: 1.2em;\n",
              "}\n",
              "\n",
              "#sk-container-id-1 div.sk-label-container {\n",
              "  text-align: center;\n",
              "}\n",
              "\n",
              "/* Estimator-specific */\n",
              "#sk-container-id-1 div.sk-estimator {\n",
              "  font-family: monospace;\n",
              "  border: 1px dotted var(--sklearn-color-border-box);\n",
              "  border-radius: 0.25em;\n",
              "  box-sizing: border-box;\n",
              "  margin-bottom: 0.5em;\n",
              "  /* unfitted */\n",
              "  background-color: var(--sklearn-color-unfitted-level-0);\n",
              "}\n",
              "\n",
              "#sk-container-id-1 div.sk-estimator.fitted {\n",
              "  /* fitted */\n",
              "  background-color: var(--sklearn-color-fitted-level-0);\n",
              "}\n",
              "\n",
              "/* on hover */\n",
              "#sk-container-id-1 div.sk-estimator:hover {\n",
              "  /* unfitted */\n",
              "  background-color: var(--sklearn-color-unfitted-level-2);\n",
              "}\n",
              "\n",
              "#sk-container-id-1 div.sk-estimator.fitted:hover {\n",
              "  /* fitted */\n",
              "  background-color: var(--sklearn-color-fitted-level-2);\n",
              "}\n",
              "\n",
              "/* Specification for estimator info (e.g. \"i\" and \"?\") */\n",
              "\n",
              "/* Common style for \"i\" and \"?\" */\n",
              "\n",
              ".sk-estimator-doc-link,\n",
              "a:link.sk-estimator-doc-link,\n",
              "a:visited.sk-estimator-doc-link {\n",
              "  float: right;\n",
              "  font-size: smaller;\n",
              "  line-height: 1em;\n",
              "  font-family: monospace;\n",
              "  background-color: var(--sklearn-color-background);\n",
              "  border-radius: 1em;\n",
              "  height: 1em;\n",
              "  width: 1em;\n",
              "  text-decoration: none !important;\n",
              "  margin-left: 0.5em;\n",
              "  text-align: center;\n",
              "  /* unfitted */\n",
              "  border: var(--sklearn-color-unfitted-level-1) 1pt solid;\n",
              "  color: var(--sklearn-color-unfitted-level-1);\n",
              "}\n",
              "\n",
              ".sk-estimator-doc-link.fitted,\n",
              "a:link.sk-estimator-doc-link.fitted,\n",
              "a:visited.sk-estimator-doc-link.fitted {\n",
              "  /* fitted */\n",
              "  border: var(--sklearn-color-fitted-level-1) 1pt solid;\n",
              "  color: var(--sklearn-color-fitted-level-1);\n",
              "}\n",
              "\n",
              "/* On hover */\n",
              "div.sk-estimator:hover .sk-estimator-doc-link:hover,\n",
              ".sk-estimator-doc-link:hover,\n",
              "div.sk-label-container:hover .sk-estimator-doc-link:hover,\n",
              ".sk-estimator-doc-link:hover {\n",
              "  /* unfitted */\n",
              "  background-color: var(--sklearn-color-unfitted-level-3);\n",
              "  color: var(--sklearn-color-background);\n",
              "  text-decoration: none;\n",
              "}\n",
              "\n",
              "div.sk-estimator.fitted:hover .sk-estimator-doc-link.fitted:hover,\n",
              ".sk-estimator-doc-link.fitted:hover,\n",
              "div.sk-label-container:hover .sk-estimator-doc-link.fitted:hover,\n",
              ".sk-estimator-doc-link.fitted:hover {\n",
              "  /* fitted */\n",
              "  background-color: var(--sklearn-color-fitted-level-3);\n",
              "  color: var(--sklearn-color-background);\n",
              "  text-decoration: none;\n",
              "}\n",
              "\n",
              "/* Span, style for the box shown on hovering the info icon */\n",
              ".sk-estimator-doc-link span {\n",
              "  display: none;\n",
              "  z-index: 9999;\n",
              "  position: relative;\n",
              "  font-weight: normal;\n",
              "  right: .2ex;\n",
              "  padding: .5ex;\n",
              "  margin: .5ex;\n",
              "  width: min-content;\n",
              "  min-width: 20ex;\n",
              "  max-width: 50ex;\n",
              "  color: var(--sklearn-color-text);\n",
              "  box-shadow: 2pt 2pt 4pt #999;\n",
              "  /* unfitted */\n",
              "  background: var(--sklearn-color-unfitted-level-0);\n",
              "  border: .5pt solid var(--sklearn-color-unfitted-level-3);\n",
              "}\n",
              "\n",
              ".sk-estimator-doc-link.fitted span {\n",
              "  /* fitted */\n",
              "  background: var(--sklearn-color-fitted-level-0);\n",
              "  border: var(--sklearn-color-fitted-level-3);\n",
              "}\n",
              "\n",
              ".sk-estimator-doc-link:hover span {\n",
              "  display: block;\n",
              "}\n",
              "\n",
              "/* \"?\"-specific style due to the `<a>` HTML tag */\n",
              "\n",
              "#sk-container-id-1 a.estimator_doc_link {\n",
              "  float: right;\n",
              "  font-size: 1rem;\n",
              "  line-height: 1em;\n",
              "  font-family: monospace;\n",
              "  background-color: var(--sklearn-color-background);\n",
              "  border-radius: 1rem;\n",
              "  height: 1rem;\n",
              "  width: 1rem;\n",
              "  text-decoration: none;\n",
              "  /* unfitted */\n",
              "  color: var(--sklearn-color-unfitted-level-1);\n",
              "  border: var(--sklearn-color-unfitted-level-1) 1pt solid;\n",
              "}\n",
              "\n",
              "#sk-container-id-1 a.estimator_doc_link.fitted {\n",
              "  /* fitted */\n",
              "  border: var(--sklearn-color-fitted-level-1) 1pt solid;\n",
              "  color: var(--sklearn-color-fitted-level-1);\n",
              "}\n",
              "\n",
              "/* On hover */\n",
              "#sk-container-id-1 a.estimator_doc_link:hover {\n",
              "  /* unfitted */\n",
              "  background-color: var(--sklearn-color-unfitted-level-3);\n",
              "  color: var(--sklearn-color-background);\n",
              "  text-decoration: none;\n",
              "}\n",
              "\n",
              "#sk-container-id-1 a.estimator_doc_link.fitted:hover {\n",
              "  /* fitted */\n",
              "  background-color: var(--sklearn-color-fitted-level-3);\n",
              "}\n",
              "</style><div id=\"sk-container-id-1\" class=\"sk-top-container\"><div class=\"sk-text-repr-fallback\"><pre>LogisticRegression(max_iter=1000)</pre><b>In a Jupyter environment, please rerun this cell to show the HTML representation or trust the notebook. <br />On GitHub, the HTML representation is unable to render, please try loading this page with nbviewer.org.</b></div><div class=\"sk-container\" hidden><div class=\"sk-item\"><div class=\"sk-estimator fitted sk-toggleable\"><input class=\"sk-toggleable__control sk-hidden--visually\" id=\"sk-estimator-id-1\" type=\"checkbox\" checked><label for=\"sk-estimator-id-1\" class=\"sk-toggleable__label fitted sk-toggleable__label-arrow\"><div><div>LogisticRegression</div></div><div><a class=\"sk-estimator-doc-link fitted\" rel=\"noreferrer\" target=\"_blank\" href=\"https://scikit-learn.org/1.6/modules/generated/sklearn.linear_model.LogisticRegression.html\">?<span>Documentation for LogisticRegression</span></a><span class=\"sk-estimator-doc-link fitted\">i<span>Fitted</span></span></div></label><div class=\"sk-toggleable__content fitted\"><pre>LogisticRegression(max_iter=1000)</pre></div> </div></div></div></div>"
            ]
          },
          "metadata": {},
          "execution_count": 16
        }
      ],
      "source": [
        "import pandas as pd\n",
        "import numpy as np\n",
        "from sklearn.model_selection import train_test_split\n",
        "from sklearn.impute import SimpleImputer\n",
        "from sklearn.linear_model import LogisticRegression\n",
        "from sklearn.metrics import accuracy_score, classification_report, confusion_matrix\n",
        "\n",
        "# 🧪 OPTIONAL: Create a sample dataset (skip this if you have X and y)\n",
        "from sklearn.datasets import make_classification\n",
        "X, y = make_classification(n_samples=1000, n_features=20, n_informative=10,\n",
        "                           n_redundant=5, n_classes=2, random_state=42)\n",
        "\n",
        "X = pd.DataFrame(X, columns=[f\"feature_{i}\" for i in range(X.shape[1])])\n",
        "y = pd.Series(y, name=\"target\")\n",
        "\n",
        "# 🧼 Inject some missing values randomly (for demonstration)\n",
        "rng = np.random.default_rng(42)\n",
        "missing_mask = rng.choice([True, False], size=X.shape, p=[0.1, 0.9])\n",
        "X = X.mask(missing_mask)\n",
        "\n",
        "# 1️⃣ Stratified Train-Test Split\n",
        "X_train, X_test, y_train, y_test = train_test_split(\n",
        "    X, y, test_size=0.2, random_state=42, stratify=y\n",
        ")\n",
        "\n",
        "# 🔍 Confirm class distribution\n",
        "print(\"Class distribution in y_train:\\n\", y_train.value_counts())\n",
        "\n",
        "# 2️⃣ Drop columns with all NaNs in training set\n",
        "X_train_clean = X_train.dropna(axis=1, how='all')\n",
        "\n",
        "# Ensure test set has same columns\n",
        "X_test_clean = X_test.reindex(columns=X_train_clean.columns, fill_value=0)\n",
        "\n",
        "# 3️⃣ Impute missing values (median)\n",
        "imputer = SimpleImputer(strategy='median')\n",
        "X_train_imputed = pd.DataFrame(imputer.fit_transform(X_train_clean),\n",
        "                               columns=X_train_clean.columns,\n",
        "                               index=X_train_clean.index)\n",
        "\n",
        "X_test_imputed = pd.DataFrame(imputer.transform(X_test_clean),\n",
        "                              columns=X_test_clean.columns,\n",
        "                              index=X_test_clean.index)\n",
        "\n",
        "# 🛡 Safety check: make sure training labels contain at least 2 classes\n",
        "if len(y_train.unique()) < 2:\n",
        "    raise ValueError(\"y_train contains only one class. Check your dataset or splitting method.\")\n",
        "\n",
        "# 4️⃣ Train Logistic Regression model\n",
        "model = LogisticRegression(max_iter=1000)\n",
        "model.fit(X_train_imputed, y_train)\n",
        "\n",
        "\n",
        "\n",
        "\n"
      ]
    },
    {
      "cell_type": "markdown",
      "metadata": {
        "id": "VOGyKd81FGs_"
      },
      "source": [
        "This code builds a full ML pipeline: it handles missing values, splits the data, trains a logistic regression model, and evaluates its performance. It simulates real-world data issues and prepares a clean dataset for accurate prediction."
      ]
    },
    {
      "cell_type": "code",
      "execution_count": 17,
      "metadata": {
        "id": "RFiIiuZxFDLc",
        "colab": {
          "base_uri": "https://localhost:8080/"
        },
        "outputId": "c73a1616-6e62-47e8-b9c0-1b04398ec2cb"
      },
      "outputs": [
        {
          "output_type": "stream",
          "name": "stdout",
          "text": [
            "✅ Accuracy: 0.875\n",
            "\n",
            "📊 Classification Report:\n",
            "               precision    recall  f1-score   support\n",
            "\n",
            "           0       0.89      0.86      0.87        99\n",
            "           1       0.87      0.89      0.88       101\n",
            "\n",
            "    accuracy                           0.88       200\n",
            "   macro avg       0.88      0.87      0.87       200\n",
            "weighted avg       0.88      0.88      0.87       200\n",
            "\n",
            "\n",
            "🧮 Confusion Matrix:\n",
            " [[85 14]\n",
            " [11 90]]\n"
          ]
        }
      ],
      "source": [
        "from sklearn.ensemble import RandomForestClassifier\n",
        "\n",
        "# Initialize the model\n",
        "rf_model = RandomForestClassifier(n_estimators=100, random_state=42)\n",
        "\n",
        "# Train\n",
        "rf_model.fit(X_train_imputed, y_train)\n",
        "\n",
        "# Predict\n",
        "y_pred_rf = rf_model.predict(X_test_imputed)\n",
        "\n",
        "# Evaluate\n",
        "from sklearn.metrics import classification_report, accuracy_score, confusion_matrix\n",
        "\n",
        "print(\"✅ Accuracy:\", accuracy_score(y_test, y_pred_rf))\n",
        "print(\"\\n📊 Classification Report:\\n\", classification_report(y_test, y_pred_rf))\n",
        "print(\"\\n🧮 Confusion Matrix:\\n\", confusion_matrix(y_test, y_pred_rf))\n"
      ]
    },
    {
      "cell_type": "code",
      "execution_count": 18,
      "metadata": {
        "id": "vjBBGWGYbDXl",
        "colab": {
          "base_uri": "https://localhost:8080/"
        },
        "outputId": "b459d36d-ea59-4f35-b8ef-355fc77ebef0"
      },
      "outputs": [
        {
          "output_type": "stream",
          "name": "stdout",
          "text": [
            "✅ Accuracy: 0.875\n",
            "\n",
            "📊 Classification Report:\n",
            "               precision    recall  f1-score   support\n",
            "\n",
            "           0       0.89      0.86      0.87        99\n",
            "           1       0.87      0.89      0.88       101\n",
            "\n",
            "    accuracy                           0.88       200\n",
            "   macro avg       0.88      0.87      0.87       200\n",
            "weighted avg       0.88      0.88      0.87       200\n",
            "\n",
            "\n",
            "🧮 Confusion Matrix:\n",
            " [[85 14]\n",
            " [11 90]]\n"
          ]
        }
      ],
      "source": [
        "from sklearn.ensemble import RandomForestClassifier\n",
        "from sklearn.model_selection import train_test_split  # Import train_test_split\n",
        "\n",
        "# ... (Your previous code for data loading, preprocessing, etc.)\n",
        "\n",
        "# Ensure X and y have consistent indices before splitting\n",
        "X = X.reset_index(drop=True)\n",
        "y = y.reset_index(drop=True)\n",
        "\n",
        "# 1️⃣ Stratified Train-Test Split\n",
        "X_train, X_test, y_train, y_test = train_test_split(\n",
        "    X, y, test_size=0.2, random_state=42, stratify=y\n",
        ")\n",
        "\n",
        "# ... (Rest of your code for data cleaning, imputation, etc.)\n",
        "\n",
        "# Initialize the model\n",
        "rf_model = RandomForestClassifier(n_estimators=100, random_state=42)\n",
        "\n",
        "# Train\n",
        "rf_model.fit(X_train_imputed, y_train.loc[X_train_imputed.index])  # Align y_train with X_train_imputed\n",
        "\n",
        "# ... (Rest of your code for prediction and evaluation)\n",
        "# Evaluate\n",
        "from sklearn.metrics import classification_report, accuracy_score, confusion_matrix\n",
        "\n",
        "print(\"✅ Accuracy:\", accuracy_score(y_test, y_pred_rf))\n",
        "print(\"\\n📊 Classification Report:\\n\", classification_report(y_test, y_pred_rf))\n",
        "print(\"\\n🧮 Confusion Matrix:\\n\", confusion_matrix(y_test, y_pred_rf))\n"
      ]
    },
    {
      "cell_type": "markdown",
      "metadata": {
        "id": "H0-gogwcaP7T"
      },
      "source": [
        "**SAVE** **MODEL**"
      ]
    },
    {
      "cell_type": "code",
      "execution_count": 19,
      "metadata": {
        "id": "WHR7mav7NOhh",
        "colab": {
          "base_uri": "https://localhost:8080/"
        },
        "outputId": "eb501e89-4f43-40d2-ade4-0937e84a55a0"
      },
      "outputs": [
        {
          "output_type": "execute_result",
          "data": {
            "text/plain": [
              "['models/imputer.pkl']"
            ]
          },
          "metadata": {},
          "execution_count": 19
        }
      ],
      "source": [
        "import joblib\n",
        "import os\n",
        "\n",
        "# Create a 'models' directory if it doesn't exist\n",
        "os.makedirs('models', exist_ok=True)\n",
        "\n",
        "# Save the trained model\n",
        "joblib.dump(rf_model, 'models/availability_model.pkl')\n",
        "\n",
        "# Save the imputer used for handling missing values\n",
        "joblib.dump(imputer, 'models/imputer.pkl')\n"
      ]
    },
    {
      "cell_type": "markdown",
      "metadata": {
        "id": "cU-7HddnKsZQ"
      },
      "source": [
        "deploy"
      ]
    },
    {
      "cell_type": "code",
      "source": [
        "# Save app.py\n",
        "%%writefile app.py\n",
        "import streamlit as st\n",
        "import joblib\n",
        "import pandas as pd\n",
        "\n",
        "model = joblib.load('availability_model.pkl')\n",
        "imputer = joblib.load('imputer.pkl')\n",
        "\n",
        "st.title(\"🏡 Room Availability Checker\")\n",
        "st.markdown(\"\"\"\n",
        "Welcome to the Room Availability Checker!\n",
        "Please input the details of a room, and click **\"Check Availability\"** to see if it's currently available.\n",
        "\"\"\")\n",
        "\n",
        "bedrooms = st.number_input(\"Bedrooms\", 0, 10, 1)\n",
        "bathrooms = st.number_input(\"Bathrooms\", 0, 10, 1)\n",
        "price = st.number_input(\"Price (KES)\", 0.0, 100000.0, 1000.0)\n",
        "rate = st.number_input(\"Rate (optional)\", 0.0, 5.0, 0.0)\n",
        "\n",
        "if st.button(\"Check Availability\"):\n",
        "    input_df = pd.DataFrame([{\n",
        "        'bedrooms': bedrooms,\n",
        "        'bathrooms': bathrooms,\n",
        "        'price': price,\n",
        "        'rate': rate\n",
        "    }])\n",
        "    input_df = imputer.transform(input_df)\n",
        "    prediction = model.predict(input_df)[0]\n",
        "    result = \"✅ Available!\" if prediction == 1 else \"❌ Not Available\"\n",
        "    st.success(result) if prediction == 1 else st.error(result)\n"
      ],
      "metadata": {
        "colab": {
          "base_uri": "https://localhost:8080/"
        },
        "id": "b2yF3OWePo4u",
        "outputId": "d7d4434d-b51d-4e9a-e0a6-4dc265bef6a4"
      },
      "execution_count": 40,
      "outputs": [
        {
          "output_type": "stream",
          "name": "stdout",
          "text": [
            "Overwriting app.py\n"
          ]
        }
      ]
    },
    {
      "cell_type": "code",
      "source": [
        "# Save requirements.txt\n",
        "%%writefile requirements.txt\n",
        "streamlit\n",
        "joblib\n",
        "pandas\n"
      ],
      "metadata": {
        "colab": {
          "base_uri": "https://localhost:8080/"
        },
        "id": "RP57HJIOPsnb",
        "outputId": "eaf6f0dc-421c-48f7-9e2b-4db89d680054"
      },
      "execution_count": 41,
      "outputs": [
        {
          "output_type": "stream",
          "name": "stdout",
          "text": [
            "Writing requirements.txt\n"
          ]
        }
      ]
    },
    {
      "cell_type": "code",
      "source": [
        "from google.colab import files\n",
        "uploaded = files.upload()\n"
      ],
      "metadata": {
        "colab": {
          "base_uri": "https://localhost:8080/",
          "height": 108
        },
        "id": "lXgoL_jCP3PR",
        "outputId": "457ebeae-8962-4727-d86f-b32f3d080278"
      },
      "execution_count": 42,
      "outputs": [
        {
          "output_type": "display_data",
          "data": {
            "text/plain": [
              "<IPython.core.display.HTML object>"
            ],
            "text/html": [
              "\n",
              "     <input type=\"file\" id=\"files-03b87faf-b429-4094-9e3b-0b0c8126f654\" name=\"files[]\" multiple disabled\n",
              "        style=\"border:none\" />\n",
              "     <output id=\"result-03b87faf-b429-4094-9e3b-0b0c8126f654\">\n",
              "      Upload widget is only available when the cell has been executed in the\n",
              "      current browser session. Please rerun this cell to enable.\n",
              "      </output>\n",
              "      <script>// Copyright 2017 Google LLC\n",
              "//\n",
              "// Licensed under the Apache License, Version 2.0 (the \"License\");\n",
              "// you may not use this file except in compliance with the License.\n",
              "// You may obtain a copy of the License at\n",
              "//\n",
              "//      http://www.apache.org/licenses/LICENSE-2.0\n",
              "//\n",
              "// Unless required by applicable law or agreed to in writing, software\n",
              "// distributed under the License is distributed on an \"AS IS\" BASIS,\n",
              "// WITHOUT WARRANTIES OR CONDITIONS OF ANY KIND, either express or implied.\n",
              "// See the License for the specific language governing permissions and\n",
              "// limitations under the License.\n",
              "\n",
              "/**\n",
              " * @fileoverview Helpers for google.colab Python module.\n",
              " */\n",
              "(function(scope) {\n",
              "function span(text, styleAttributes = {}) {\n",
              "  const element = document.createElement('span');\n",
              "  element.textContent = text;\n",
              "  for (const key of Object.keys(styleAttributes)) {\n",
              "    element.style[key] = styleAttributes[key];\n",
              "  }\n",
              "  return element;\n",
              "}\n",
              "\n",
              "// Max number of bytes which will be uploaded at a time.\n",
              "const MAX_PAYLOAD_SIZE = 100 * 1024;\n",
              "\n",
              "function _uploadFiles(inputId, outputId) {\n",
              "  const steps = uploadFilesStep(inputId, outputId);\n",
              "  const outputElement = document.getElementById(outputId);\n",
              "  // Cache steps on the outputElement to make it available for the next call\n",
              "  // to uploadFilesContinue from Python.\n",
              "  outputElement.steps = steps;\n",
              "\n",
              "  return _uploadFilesContinue(outputId);\n",
              "}\n",
              "\n",
              "// This is roughly an async generator (not supported in the browser yet),\n",
              "// where there are multiple asynchronous steps and the Python side is going\n",
              "// to poll for completion of each step.\n",
              "// This uses a Promise to block the python side on completion of each step,\n",
              "// then passes the result of the previous step as the input to the next step.\n",
              "function _uploadFilesContinue(outputId) {\n",
              "  const outputElement = document.getElementById(outputId);\n",
              "  const steps = outputElement.steps;\n",
              "\n",
              "  const next = steps.next(outputElement.lastPromiseValue);\n",
              "  return Promise.resolve(next.value.promise).then((value) => {\n",
              "    // Cache the last promise value to make it available to the next\n",
              "    // step of the generator.\n",
              "    outputElement.lastPromiseValue = value;\n",
              "    return next.value.response;\n",
              "  });\n",
              "}\n",
              "\n",
              "/**\n",
              " * Generator function which is called between each async step of the upload\n",
              " * process.\n",
              " * @param {string} inputId Element ID of the input file picker element.\n",
              " * @param {string} outputId Element ID of the output display.\n",
              " * @return {!Iterable<!Object>} Iterable of next steps.\n",
              " */\n",
              "function* uploadFilesStep(inputId, outputId) {\n",
              "  const inputElement = document.getElementById(inputId);\n",
              "  inputElement.disabled = false;\n",
              "\n",
              "  const outputElement = document.getElementById(outputId);\n",
              "  outputElement.innerHTML = '';\n",
              "\n",
              "  const pickedPromise = new Promise((resolve) => {\n",
              "    inputElement.addEventListener('change', (e) => {\n",
              "      resolve(e.target.files);\n",
              "    });\n",
              "  });\n",
              "\n",
              "  const cancel = document.createElement('button');\n",
              "  inputElement.parentElement.appendChild(cancel);\n",
              "  cancel.textContent = 'Cancel upload';\n",
              "  const cancelPromise = new Promise((resolve) => {\n",
              "    cancel.onclick = () => {\n",
              "      resolve(null);\n",
              "    };\n",
              "  });\n",
              "\n",
              "  // Wait for the user to pick the files.\n",
              "  const files = yield {\n",
              "    promise: Promise.race([pickedPromise, cancelPromise]),\n",
              "    response: {\n",
              "      action: 'starting',\n",
              "    }\n",
              "  };\n",
              "\n",
              "  cancel.remove();\n",
              "\n",
              "  // Disable the input element since further picks are not allowed.\n",
              "  inputElement.disabled = true;\n",
              "\n",
              "  if (!files) {\n",
              "    return {\n",
              "      response: {\n",
              "        action: 'complete',\n",
              "      }\n",
              "    };\n",
              "  }\n",
              "\n",
              "  for (const file of files) {\n",
              "    const li = document.createElement('li');\n",
              "    li.append(span(file.name, {fontWeight: 'bold'}));\n",
              "    li.append(span(\n",
              "        `(${file.type || 'n/a'}) - ${file.size} bytes, ` +\n",
              "        `last modified: ${\n",
              "            file.lastModifiedDate ? file.lastModifiedDate.toLocaleDateString() :\n",
              "                                    'n/a'} - `));\n",
              "    const percent = span('0% done');\n",
              "    li.appendChild(percent);\n",
              "\n",
              "    outputElement.appendChild(li);\n",
              "\n",
              "    const fileDataPromise = new Promise((resolve) => {\n",
              "      const reader = new FileReader();\n",
              "      reader.onload = (e) => {\n",
              "        resolve(e.target.result);\n",
              "      };\n",
              "      reader.readAsArrayBuffer(file);\n",
              "    });\n",
              "    // Wait for the data to be ready.\n",
              "    let fileData = yield {\n",
              "      promise: fileDataPromise,\n",
              "      response: {\n",
              "        action: 'continue',\n",
              "      }\n",
              "    };\n",
              "\n",
              "    // Use a chunked sending to avoid message size limits. See b/62115660.\n",
              "    let position = 0;\n",
              "    do {\n",
              "      const length = Math.min(fileData.byteLength - position, MAX_PAYLOAD_SIZE);\n",
              "      const chunk = new Uint8Array(fileData, position, length);\n",
              "      position += length;\n",
              "\n",
              "      const base64 = btoa(String.fromCharCode.apply(null, chunk));\n",
              "      yield {\n",
              "        response: {\n",
              "          action: 'append',\n",
              "          file: file.name,\n",
              "          data: base64,\n",
              "        },\n",
              "      };\n",
              "\n",
              "      let percentDone = fileData.byteLength === 0 ?\n",
              "          100 :\n",
              "          Math.round((position / fileData.byteLength) * 100);\n",
              "      percent.textContent = `${percentDone}% done`;\n",
              "\n",
              "    } while (position < fileData.byteLength);\n",
              "  }\n",
              "\n",
              "  // All done.\n",
              "  yield {\n",
              "    response: {\n",
              "      action: 'complete',\n",
              "    }\n",
              "  };\n",
              "}\n",
              "\n",
              "scope.google = scope.google || {};\n",
              "scope.google.colab = scope.google.colab || {};\n",
              "scope.google.colab._files = {\n",
              "  _uploadFiles,\n",
              "  _uploadFilesContinue,\n",
              "};\n",
              "})(self);\n",
              "</script> "
            ]
          },
          "metadata": {}
        },
        {
          "output_type": "stream",
          "name": "stdout",
          "text": [
            "Saving imputer (1).pkl to imputer (1) (1).pkl\n",
            "Saving availability_model (2).pkl to availability_model (2) (1).pkl\n"
          ]
        }
      ]
    },
    {
      "cell_type": "code",
      "source": [
        "!git config --global user.email \"davidversion3560@gmail.com\"\n",
        "!git config --global user.name \"DAVINNCI5\"\n"
      ],
      "metadata": {
        "id": "ybj80KgIUYTi"
      },
      "execution_count": 56,
      "outputs": []
    },
    {
      "cell_type": "code",
      "source": [
        "!echo \"# pro.py\" >> README.md\n",
        "!git init\n",
        "!git commit -m \"first commit\"\n",
        "!git branch -M main\n",
        "!echo \"# pro.py\" >> README.md\n",
        "!git init\n",
        "!git add .\n",
        "!git commit -m \"first commit\"\n",
        "!git branch -M main\n",
        "!git remote add origin https://github.com/DAVINNCI5/pro.py.git\n",
        "!git push -u origin main"
      ],
      "metadata": {
        "colab": {
          "base_uri": "https://localhost:8080/"
        },
        "id": "yJSN_YkKVxIo",
        "outputId": "68a12d70-bbcb-49ae-8f2e-049ac5ccf7ae"
      },
      "execution_count": 63,
      "outputs": [
        {
          "output_type": "stream",
          "name": "stdout",
          "text": [
            "Reinitialized existing Git repository in /content/.git/\n",
            "On branch main\n",
            "Changes not staged for commit:\n",
            "  (use \"git add <file>...\" to update what will be committed)\n",
            "  (use \"git restore <file>...\" to discard changes in working directory)\n",
            "\t\u001b[31mmodified:   README.md\u001b[m\n",
            "\n",
            "no changes added to commit (use \"git add\" and/or \"git commit -a\")\n",
            "Reinitialized existing Git repository in /content/.git/\n",
            "[main 6f6b6c7] first commit\n",
            " 1 file changed, 2 insertions(+)\n",
            "error: remote origin already exists.\n",
            "fatal: could not read Username for 'https://github.com': No such device or address\n"
          ]
        }
      ]
    }
  ],
  "metadata": {
    "colab": {
      "provenance": [],
      "authorship_tag": "ABX9TyNeMzpa0OdfUB2rTpTowyAr",
      "include_colab_link": true
    },
    "kernelspec": {
      "display_name": "Python 3",
      "name": "python3"
    },
    "language_info": {
      "name": "python"
    }
  },
  "nbformat": 4,
  "nbformat_minor": 0
}